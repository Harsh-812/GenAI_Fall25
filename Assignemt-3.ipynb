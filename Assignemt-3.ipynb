{
  "nbformat": 4,
  "nbformat_minor": 0,
  "metadata": {
    "colab": {
      "provenance": [],
      "include_colab_link": true
    },
    "kernelspec": {
      "name": "python3",
      "display_name": "Python 3"
    },
    "language_info": {
      "name": "python"
    }
  },
  "cells": [
    {
      "cell_type": "markdown",
      "metadata": {
        "id": "view-in-github",
        "colab_type": "text"
      },
      "source": [
        "<a href=\"https://colab.research.google.com/github/Harsh-812/GenAI_Fall25/blob/main/Assignemt-3.ipynb\" target=\"_parent\"><img src=\"https://colab.research.google.com/assets/colab-badge.svg\" alt=\"Open In Colab\"/></a>"
      ]
    },
    {
      "cell_type": "markdown",
      "source": [
        "# ASSIGNMENT 3"
      ],
      "metadata": {
        "id": "pSjErKHrBf6T"
      }
    },
    {
      "cell_type": "code",
      "source": [
        "# ==========================\n",
        "# 📌 Set Up LLM and OpenAI API\n",
        "# ==========================\n",
        "# Import required libraries\n",
        "from google.colab import userdata\n",
        "import openai\n",
        "import os\n",
        "\n",
        "# Load the OpenAI API key securely from Colab secrets\n",
        "api_key = userdata.get('Open_AI_API')\n",
        "\n",
        "# Check that the API key was found\n",
        "if api_key is None:\n",
        "    raise ValueError(\"❌ API Key not found. Please store your OpenAI API key using Colab secrets.\")\n",
        "\n",
        "# Set API key as environment variable for OpenAI\n",
        "os.environ[\"OPENAI_API_KEY\"] = api_key\n",
        "\n",
        "# Initialize OpenAI client\n",
        "client = openai.OpenAI(api_key=api_key)\n",
        "\n",
        "print(\"✅ OpenAI API Key successfully loaded and environment is ready!\")\n"
      ],
      "metadata": {
        "id": "dB3jBmICZwED",
        "colab": {
          "base_uri": "https://localhost:8080/"
        },
        "outputId": "b0b4ff5c-ac41-471d-a1a7-db9e1e5dd079"
      },
      "execution_count": 21,
      "outputs": [
        {
          "output_type": "stream",
          "name": "stdout",
          "text": [
            "✅ OpenAI API Key successfully loaded and environment is ready!\n"
          ]
        }
      ]
    },
    {
      "cell_type": "markdown",
      "source": [
        "## The initial prompt from the class : The Chicken and Rabbit Challenge\n",
        "\n",
        "\"A farmer has chickens and rabbits in a cage. There are 35 heads and 94 legs. How many chickens and rabbits are there?\""
      ],
      "metadata": {
        "id": "6NL0hWsimfW2"
      }
    },
    {
      "cell_type": "code",
      "source": [
        "# Iteration 1\n",
        "\n",
        "initial_prompt = (\"A farmer has chickens and rabbits in a cage. There are 35 heads and 94 legs. How many chickens and rabbits are there?\")\n",
        "\n",
        "model_name = \"gpt-3.5-turbo\"\n",
        "\n",
        "response = client.chat.completions.create(\n",
        "    model=model_name,\n",
        "    messages=[{\"role\": \"user\", \"content\": initial_prompt}],\n",
        "    temperature=0.9\n",
        ")\n",
        "\n",
        "print(\"Iteration 1 Result:\\n\", response.choices[0].message.content.strip())"
      ],
      "metadata": {
        "colab": {
          "base_uri": "https://localhost:8080/"
        },
        "id": "bPZN-MR9mZq9",
        "outputId": "73660727-e9d0-4beb-8b8d-d5e770e35458"
      },
      "execution_count": 8,
      "outputs": [
        {
          "output_type": "stream",
          "name": "stdout",
          "text": [
            "Iteration 1 Result:\n",
            " Let x be the number of chickens and y be the number of rabbits.\n",
            "\n",
            "From the given information, we can create two equations:\n",
            "\n",
            "1. x + y = 35 (total number of heads)\n",
            "2. 2x + 4y = 94 (total number of legs)\n",
            "\n",
            "Solving these two equations simultaneously:\n",
            "\n",
            "From equation 1:\n",
            "x = 35 - y\n",
            "\n",
            "Substitute x into equation 2:\n",
            "2(35 - y) + 4y = 94\n",
            "70 - 2y + 4y = 94\n",
            "2y = 24\n",
            "y = 12\n",
            "\n",
            "Substitute y back into x = 35 - y:\n",
            "x = 35 - 12\n",
            "x = 23\n",
            "\n",
            "Therefore, there are 23 chickens and 12 rabbits in the cage.\n"
          ]
        }
      ]
    },
    {
      "cell_type": "markdown",
      "source": [
        "## Observations for Iteration 1\n",
        "\n",
        "* Model Used: gpt-3o-turbo\n",
        "* Temperature: 0.9\n",
        "* Prompt elements: Basic diresct problem statement with no persona, no formatting and no instructions on how to solve\n",
        "* Output: The model has given the correct answer\n",
        "\n",
        "Even with a striaght forward prompt and high temperature the model has solved this problem with basic step by step reasoning\n"
      ],
      "metadata": {
        "id": "moCa8--Fzsd-"
      }
    },
    {
      "cell_type": "code",
      "source": [
        "# Iteration 2\n",
        "\n",
        "second_prompt = (\n",
        "    \"Solve this problem step by step:\\n\"\n",
        "    \"A farmer has chickens and rabbits in a cage. There are 35 heads and 94 legs. How many chickens and rabbits are there?\"\n",
        ")\n",
        "\n",
        "response = client.chat.completions.create(\n",
        "    model=\"gpt-4\",\n",
        "    messages=[{\"role\": \"user\", \"content\": second_prompt}],\n",
        "    temperature=0.8\n",
        ")\n",
        "\n",
        "print(\"Iteration 2 Result:\\n\", response.choices[0].message.content.strip())"
      ],
      "metadata": {
        "colab": {
          "base_uri": "https://localhost:8080/"
        },
        "id": "DO2QFXFxmZV1",
        "outputId": "f5e6114b-e491-48f5-9d5a-a36723b6a0f4"
      },
      "execution_count": 11,
      "outputs": [
        {
          "output_type": "stream",
          "name": "stdout",
          "text": [
            "Iteration 2 Result:\n",
            " Step 1: Set up an equation\n",
            "\n",
            "Let's say the number of chickens the farmer has is represented by \"c\" and the number of rabbits is represented by \"r\". We know from the problem that the total number of heads is equal to 35, so we can set up the equation:\n",
            "\n",
            "c + r = 35  (equation 1)\n",
            "\n",
            "Step 2: Set up another equation\n",
            "\n",
            "We also know from the problem that the total number of legs is 94. Chickens have 2 legs and rabbits have 4. So we can set up the equation:\n",
            "\n",
            "2c + 4r = 94  (equation 2)\n",
            "\n",
            "However, this equation can be simplified by dividing every term by 2, giving:\n",
            "\n",
            "c + 2r = 47  (equation 3)\n",
            "\n",
            "Step 3: Solve the system of equations\n",
            "\n",
            "Now we have a system of two equations (equation 1 and equation 3) that we can solve. Subtraction of equation 1 from equation 3 gives:\n",
            "\n",
            "c + 2r - c - r = 47 - 35\n",
            "r = 12\n",
            "\n",
            "Substituting r = 12 into equation 1 gives:\n",
            "\n",
            "c + 12 = 35\n",
            "c = 35 - 12 = 23\n",
            "\n",
            "So, the farmer has 23 chickens and 12 rabbits.\n"
          ]
        }
      ]
    },
    {
      "cell_type": "markdown",
      "source": [
        "## Observations for Iteration 2\n",
        "\n",
        "* Model Used: gpt-4\n",
        "* Temperature: 0.8\n",
        "* Prompt elements: This time I have explicitly asked the model to solve the problem step by step\n",
        "* Ouput: The model has given the right answer with step by step explainations\n",
        "\n",
        "With gpt-4 and a high temperature, the result is still accurate but the explaination was more detailed compared to iteration 1\n",
        "\n"
      ],
      "metadata": {
        "id": "3tDmGN4b6drp"
      }
    },
    {
      "cell_type": "code",
      "source": [
        "# Iteration 3\n",
        "\n",
        "third_prompt = (\n",
        "    \"Solve step by step. At the end, give the final answer ONLY in this format:\\n\"\n",
        "    \"chickens=<number>, rabbits=<number>\\n\\n\"\n",
        "    \"Problem: A farmer has chickens and rabbits in a cage. There are 35 heads and 94 legs.\"\n",
        ")\n",
        "\n",
        "response = client.chat.completions.create(\n",
        "    model=\"gpt-4-turbo\",\n",
        "    messages=[{\"role\": \"user\", \"content\": third_prompt}],\n",
        "    temperature=0.6\n",
        ")\n",
        "\n",
        "print(\"Iteration 3 Result:\\n\", response.choices[0].message.content.strip())"
      ],
      "metadata": {
        "colab": {
          "base_uri": "https://localhost:8080/"
        },
        "id": "_Mxun-87Dfh5",
        "outputId": "7c76a635-5315-4102-ad04-82617a415446"
      },
      "execution_count": 13,
      "outputs": [
        {
          "output_type": "stream",
          "name": "stdout",
          "text": [
            "Iteration 3 Result:\n",
            " Step 1: Let the number of chickens be \\( c \\) and the number of rabbits be \\( r \\).\n",
            "\n",
            "Step 2: Since both chickens and rabbits have one head each, we can write the equation:\n",
            "\\[ c + r = 35 \\] (Equation 1)\n",
            "\n",
            "Step 3: Chickens have 2 legs each and rabbits have 4 legs each. Therefore, the total number of legs can be represented as:\n",
            "\\[ 2c + 4r = 94 \\] (Equation 2)\n",
            "\n",
            "Step 4: Simplify Equation 2 by dividing the entire equation by 2:\n",
            "\\[ c + 2r = 47 \\] (Equation 3)\n",
            "\n",
            "Step 5: Now, subtract Equation 1 from Equation 3:\n",
            "\\[ (c + 2r) - (c + r) = 47 - 35 \\]\n",
            "\\[ r = 12 \\]\n",
            "\n",
            "Step 6: Substitute \\( r = 12 \\) back into Equation 1:\n",
            "\\[ c + 12 = 35 \\]\n",
            "\\[ c = 23 \\]\n",
            "\n",
            "Final answer: chickens=23, rabbits=12\n"
          ]
        }
      ]
    },
    {
      "cell_type": "markdown",
      "source": [
        "## Observations for Iteration 3\n",
        "\n",
        "* Model Used: gpt-4-turbo\n",
        "* Temperature: 0.6\n",
        "* Prompt elements: This time I have added reasoning instruction and specified an output format to be followed\n",
        "* Ouput: The model has given the right answer as per the instructions in the prompt.\n",
        "\n",
        "With gpt-4 and a high temperature, the result is still accurate but the step by step explaination is more detailed compared to previous two iterations. The model has followed the output format which has resulted in a clean final answer. With temp 0.6, the explaination is still stable and concise.\n"
      ],
      "metadata": {
        "id": "8Wi1PcMPDkNN"
      }
    },
    {
      "cell_type": "code",
      "source": [
        "# Iteration 4\n",
        "\n",
        "fourth_prompt = (\n",
        "    \"You are a math tutor. Explain the solution clearly in 3–6 steps.\\n\"\n",
        "    \"At the end, give the final answer ONLY in this exact format:\\n\"\n",
        "    \"chickens=<number>, rabbits=<number>\\n\\n\"\n",
        "    \"Problem: A farmer has chickens and rabbits in a cage. There are 35 heads and 94 legs. How many chickens and rabbits are there?\"\n",
        ")\n",
        "\n",
        "response = client.chat.completions.create(\n",
        "    model=\"gpt-4o-mini\",\n",
        "    messages=[{\"role\": \"user\", \"content\": fourth_prompt}],\n",
        "    temperature=0.5\n",
        ")\n",
        "\n",
        "print(\"Iteration 4 Result:\\n\", response.choices[0].message.content.strip())"
      ],
      "metadata": {
        "colab": {
          "base_uri": "https://localhost:8080/"
        },
        "id": "EuNafs_9GFf4",
        "outputId": "a2b1e944-c3e8-440f-b707-e883c6571a65"
      },
      "execution_count": 14,
      "outputs": [
        {
          "output_type": "stream",
          "name": "stdout",
          "text": [
            "Iteration 4 Result:\n",
            " To solve the problem, we start by setting up a system of equations based on the information given.\n",
            "\n",
            "1. **Define Variables**: Let \\( c \\) be the number of chickens and \\( r \\) be the number of rabbits.\n",
            "\n",
            "2. **Set Up Equations**:\n",
            "   - Each animal has one head, so the total number of heads gives us the equation:\n",
            "     \\[\n",
            "     c + r = 35 \\quad \\text{(1)}\n",
            "     \\]\n",
            "   - Chickens have 2 legs and rabbits have 4 legs, so the total number of legs gives us the equation:\n",
            "     \\[\n",
            "     2c + 4r = 94 \\quad \\text{(2)}\n",
            "     \\]\n",
            "\n",
            "3. **Simplify Equation (2)**: We can simplify equation (2) by dividing everything by 2:\n",
            "   \\[\n",
            "   c + 2r = 47 \\quad \\text{(3)}\n",
            "   \\]\n",
            "\n",
            "4. **Solve the System of Equations**: Now we have two equations:\n",
            "   - From equation (1): \\( c + r = 35 \\)\n",
            "   - From equation (3): \\( c + 2r = 47 \\)\n",
            "\n",
            "   We can subtract equation (1) from equation (3):\n",
            "   \\[\n",
            "   (c + 2r) - (c + r) = 47 - 35\n",
            "   \\]\n",
            "   This simplifies to:\n",
            "   \\[\n",
            "   r = 12\n",
            "   \\]\n",
            "\n",
            "5. **Substitute Back to Find \\( c \\)**: Now substitute \\( r = 12 \\) back into equation (1):\n",
            "   \\[\n",
            "   c + 12 = 35\n",
            "   \\]\n",
            "   Thus, \n",
            "   \\[\n",
            "   c = 35 - 12 = 23\n",
            "   \\]\n",
            "\n",
            "6. **Final Answer**: We have found that there are 23 chickens and 12 rabbits. Therefore, the final answer is:\n",
            "chickens=23, rabbits=12\n"
          ]
        }
      ]
    },
    {
      "cell_type": "markdown",
      "source": [
        "## Observations for Iteration 4\n",
        "\n",
        "* Model Used: gpt-4o-mini\n",
        "* Temperature: 0.5\n",
        "* Prompt elements: Have included a simple persona along with an instruction an an expected ouput format.\n",
        "* Ouput: The model has given the right answer with structured and clear sections like 'define variables', 'set up equations' etc\n",
        "\n",
        "Even with a lighter model like gpt-4o-mini along with a simple persona and some instructions, the model has given a structured solution. using the temperature of 0.5 resulted in slight variation in phrasing but did not change the output\n"
      ],
      "metadata": {
        "id": "JrQRPOlzDmQ3"
      }
    },
    {
      "cell_type": "code",
      "source": [
        "# Iteration 5 - Part 1\n",
        "\n",
        "fifth_prompt = (\n",
        "    \"You are a patient math tutor. Explain the solution clearly in 3–6 steps.\\n\"\n",
        "    \"At the end, give the final answer ONLY in this exact format:\\n\"\n",
        "    \"chickens=<number>, rabbits=<number>\\n\\n\"\n",
        "    \"Example:\\n\"\n",
        "    \"Problem: A farmer has goats and cows with 10 heads and 28 legs.\\n\"\n",
        "    \"Solution (sketch): Let g + c = 10, 4c + 2g = 28 → c = 4, g = 6.\\n\"\n",
        "    \"Final: goats=6, cows=4\\n\\n\"\n",
        "    \"Now solve this:\\n\"\n",
        "    \"Problem: A farmer has chickens and rabbits in a cage. There are 35 heads and 94 legs. How many chickens and rabbits are there?\"\n",
        ")\n",
        "\n",
        "response = client.chat.completions.create(\n",
        "    model=\"o4-mini\",\n",
        "    messages=[{\"role\": \"user\", \"content\": fifth_prompt}],\n",
        "    temperature=1\n",
        ")\n",
        "\n",
        "print(\"Iteration 5 Result:\\n\", response.choices[0].message.content.strip())"
      ],
      "metadata": {
        "colab": {
          "base_uri": "https://localhost:8080/"
        },
        "id": "G2_KRVfuYwz4",
        "outputId": "f77695e9-4fe0-407c-80e3-47c11b85516c"
      },
      "execution_count": 16,
      "outputs": [
        {
          "output_type": "stream",
          "name": "stdout",
          "text": [
            "Iteration 5 Result:\n",
            " 1. Let chickens = c and rabbits = r.  \n",
            "2. From heads: c + r = 35.  \n",
            "3. From legs: 2c + 4r = 94.  \n",
            "4. Divide legs equation by 2: c + 2r = 47.  \n",
            "5. Subtract heads equation from this: (c + 2r) – (c + r) = 47 – 35 ⇒ r = 12.  \n",
            "6. Substitute back: c = 35 – 12 = 23.  \n",
            "\n",
            "chickens=23, rabbits=12\n"
          ]
        }
      ]
    },
    {
      "cell_type": "markdown",
      "source": [
        "## Observations for Iteration 5 - Part 1\n",
        "\n",
        "* Model Used: o4-mini\n",
        "* Temperature: 1\n",
        "* Prompt elements: Used one shot prompting. Improved the persona a bit by adding an emotion \"patient\" to the math tutor. The step by step instruction and an expected output format fomrat remains the same.\n",
        "* Ouput: The model has given the right answer with followed instruction and output format\n",
        "\n",
        "Adding a one-shot example along with an improved persona has given the model a clear blueprint to follow. I had keep the temperature value of 1 since this particular model does not take any other value for it.\n"
      ],
      "metadata": {
        "id": "58w6y8KxDouM"
      }
    },
    {
      "cell_type": "code",
      "source": [
        "# Iteration 5 - Part 2: Just to see how the repsonse will vary with a 2nd run with a high temperature of 1\n",
        "\n",
        "fifth_prompt = (\n",
        "    \"You are a patient math tutor. Explain the solution clearly in 3–6 steps.\\n\"\n",
        "    \"At the end, give the final answer ONLY in this exact format:\\n\"\n",
        "    \"chickens=<number>, rabbits=<number>\\n\\n\"\n",
        "    \"Example:\\n\"\n",
        "    \"Problem: A farmer has goats and cows with 10 heads and 28 legs.\\n\"\n",
        "    \"Solution (sketch): Let g + c = 10, 4c + 2g = 28 → c = 4, g = 6.\\n\"\n",
        "    \"Final: goats=6, cows=4\\n\\n\"\n",
        "    \"Now solve this:\\n\"\n",
        "    \"Problem: A farmer has chickens and rabbits in a cage. There are 35 heads and 94 legs. How many chickens and rabbits are there?\"\n",
        ")\n",
        "\n",
        "response = client.chat.completions.create(\n",
        "    model=\"o4-mini\",\n",
        "    messages=[{\"role\": \"user\", \"content\": fifth_prompt}],\n",
        "    temperature=1\n",
        ")\n",
        "\n",
        "print(\"Iteration 5 Result:\\n\", response.choices[0].message.content.strip())"
      ],
      "metadata": {
        "colab": {
          "base_uri": "https://localhost:8080/"
        },
        "id": "qS9OBaOXbZYR",
        "outputId": "cb206a80-e1ee-4bd8-c2b4-52c86b598920"
      },
      "execution_count": 17,
      "outputs": [
        {
          "output_type": "stream",
          "name": "stdout",
          "text": [
            "Iteration 5 Result:\n",
            " 1. Let c = number of chickens and r = number of rabbits.  \n",
            "2. From the problem:  \n",
            "   (i) c + r = 35  \n",
            "   (ii) 2c + 4r = 94  \n",
            "3. Divide (ii) by 2: c + 2r = 47.  \n",
            "4. Subtract (i) from this: (c + 2r) – (c + r) = 47 – 35 ⇒ r = 12.  \n",
            "5. Substitute r into (i): c + 12 = 35 ⇒ c = 23.  \n",
            "\n",
            "chickens=23, rabbits=12\n"
          ]
        }
      ]
    },
    {
      "cell_type": "markdown",
      "source": [
        "## Observations for Iteration 5 - Part 2\n",
        "\n",
        "* Model Used: o4-mini\n",
        "* Temperature: 1\n",
        "\n",
        "I ran iteration 5 again to see how much the output varies with a high temperature like 1. The model still produced the correct answer but the explaination style is slightly rephrased compared to first run. This shows that even with high temp which produces high randomness, the persona and example kept the ouput stable.\n"
      ],
      "metadata": {
        "id": "fEWyeo0pcMOs"
      }
    },
    {
      "cell_type": "code",
      "source": [
        "# Iteration 6\n",
        "\n",
        "sixth_prompt = (\n",
        "    \"You are a patient math tutor. Explain the solution clearly in 3–6 steps.\\n\"\n",
        "    \"Include an explicit verification step that checks both equations:\\n\"\n",
        "    \"1) heads: c + r = 35\\n\"\n",
        "    \"2) legs: 2c + 4r = 94\\n\"\n",
        "    \"If a check fails, correct the work and re-verify.\\n\"\n",
        "    \"At the end, give the final answer ONLY in this exact format (no extra words):\\n\"\n",
        "    \"chickens=<number>, rabbits=<number>\\n\\n\"\n",
        "    \"Example 1:\\n\"\n",
        "    \"Problem: A farmer has goats and cows with 10 heads and 28 legs.\\n\"\n",
        "    \"Solution (sketch): Let g + c = 10, 4c + 2g = 28 → c = 4, g = 6.\\n\"\n",
        "    \"Final: goats=6, cows=4\\n\\n\"\n",
        "    \"Example 2:\\n\"\n",
        "    \"Problem: There are ducks and pigs on a farm with 20 heads and 56 legs.\\n\"\n",
        "    \"Solution (sketch): Let d + p = 20, 2d + 4p = 56 → p = 8, d = 12.\\n\"\n",
        "    \"Final: ducks=12, pigs=8\\n\\n\"\n",
        "    \"Now solve this:\\n\"\n",
        "    \"Problem: A farmer has chickens and rabbits in a cage. There are 35 heads and 94 legs. How many chickens and rabbits are there?\"\n",
        ")\n",
        "\n",
        "response = client.chat.completions.create(\n",
        "    model=\"gpt-5-mini\",\n",
        "    messages=[{\"role\": \"user\", \"content\": sixth_prompt}],\n",
        "    temperature=1\n",
        ")\n",
        "\n",
        "print(\"Iteration 6 Result:\\n\", response.choices[0].message.content.strip())\n"
      ],
      "metadata": {
        "colab": {
          "base_uri": "https://localhost:8080/"
        },
        "id": "RoPSdks1c4C3",
        "outputId": "c935f69f-7e9f-461d-eeb6-5a5888b2836c"
      },
      "execution_count": 22,
      "outputs": [
        {
          "output_type": "stream",
          "name": "stdout",
          "text": [
            "Iteration 6 Result:\n",
            " 1) Let c = number of chickens and r = number of rabbits. Then heads: c + r = 35, legs: 2c + 4r = 94.\n",
            "\n",
            "2) Eliminate c by subtracting 2×(heads) from legs: (2c+4r) - 2(c+r) = 94 - 70 → 2r = 24 → r = 12.\n",
            "\n",
            "3) Find chickens: c = 35 − r = 35 − 12 = 23.\n",
            "\n",
            "4) Verification: heads: c + r = 23 + 12 = 35 (OK). legs: 2c + 4r = 2·23 + 4·12 = 46 + 48 = 94 (OK). Both equations hold.\n",
            "\n",
            "chickens=23, rabbits=12\n"
          ]
        }
      ]
    },
    {
      "cell_type": "markdown",
      "source": [
        "## Observations for Iteration 6\n",
        "\n",
        "* Model Used: gpt-5-mini\n",
        "* Temperature: 1\n",
        "* Prompt elements: Maintained the same persona as above but addded more than one example which makes this few-shots prompt. Then along with an expected output format, have also added a verification step\n",
        "* Ouput: The model has given the right answer and has also included a verification check which the model has passed\n",
        "\n",
        "Adding the extra verification step increased clarity and reliability. The model has followed all the instructions (with high temp) and has ensured to check for validation. I believe this will reduce the risk of random errors\n"
      ],
      "metadata": {
        "id": "ZJseiVylDrMj"
      }
    },
    {
      "cell_type": "code",
      "source": [
        "# Iteration 7 - FInal Prompt\n",
        "\n",
        "final_prompt = (\n",
        "    \"You are an expert math tutor and careful grader. Keep explanations concise and correct.\\n\"\n",
        "    \"Use the ReAct pattern:\\n\"\n",
        "    \"Reason: Define variables (c = chickens, r = rabbits) and write both equations for heads and legs.\\n\"\n",
        "    \"Act: Solve the system with brief substitution or elimination (3–6 lines).\\n\"\n",
        "    \"Verify: Check both equations explicitly with your (c, r). If a check fails, fix and re-check.\\n\"\n",
        "    \"Final: Output ONLY the final line in this exact format:\\n\"\n",
        "    \"chickens=<number>, rabbits=<number>\\n\\n\"\n",
        "    \"Example:\\n\"\n",
        "    \"Problem: A farmer has goats and cows with 10 heads and 28 legs.\\n\"\n",
        "    \"Solution (sketch): Let g + c = 10, 4c + 2g = 28 → c = 4, g = 6.\\n\"\n",
        "    \"Final: goats=6, cows=4\\n\\n\"\n",
        "    \"Now solve this:\\n\"\n",
        "    \"Problem: A farmer has chickens and rabbits in a cage. There are 35 heads and 94 legs. How many chickens and rabbits are there?\"\n",
        ")\n",
        "\n",
        "response = client.chat.completions.create(\n",
        "    model=\"gpt-4o\",\n",
        "    messages=[{\"role\": \"user\", \"content\": final_prompt}],\n",
        "    temperature=0.4\n",
        ")\n",
        "\n",
        "print(\"Iteration 7 Result:\\n\", response.choices[0].message.content.strip())"
      ],
      "metadata": {
        "colab": {
          "base_uri": "https://localhost:8080/"
        },
        "id": "fKZEes2CgXLO",
        "outputId": "9db63f67-31a6-4bd1-e533-9a0ffffc2fc1"
      },
      "execution_count": 20,
      "outputs": [
        {
          "output_type": "stream",
          "name": "stdout",
          "text": [
            "Iteration 7 Result:\n",
            " Reason: Let c = chickens and r = rabbits. We have the equations for heads and legs:  \n",
            "c + r = 35 (heads equation)  \n",
            "2c + 4r = 94 (legs equation)  \n",
            "\n",
            "Act: Solve the system of equations:  \n",
            "From the heads equation, express c in terms of r: c = 35 - r.  \n",
            "Substitute c = 35 - r into the legs equation:  \n",
            "2(35 - r) + 4r = 94  \n",
            "70 - 2r + 4r = 94  \n",
            "2r = 24  \n",
            "r = 12  \n",
            "\n",
            "Substitute r = 12 back into c = 35 - r:  \n",
            "c = 35 - 12 = 23  \n",
            "\n",
            "Verify: Check both equations with c = 23 and r = 12:  \n",
            "Heads: 23 + 12 = 35 (correct)  \n",
            "Legs: 2(23) + 4(12) = 46 + 48 = 94 (correct)  \n",
            "\n",
            "Final: chickens=23, rabbits=12\n"
          ]
        }
      ]
    },
    {
      "cell_type": "markdown",
      "source": [
        "## Observations for Iteration 7\n",
        "\n",
        "* Model Used: gpt-4o\n",
        "* Temperature: 0.4\n",
        "* Prompt elements: The final prompt includes a refined persona, context in the form of examples and the reason from the ReACT style of prompting, a verification gaurdrail and an expected final output format.\n",
        "* Ouput: The model has given a detailed step by step solution split into reason, act and verify while maintaining the expected ouput format.\n",
        "\n",
        "This final iteration includes all the important prompt elements learnt from the class modules. As a result, the model response was the most structured and reliable comapred to all previous iterations."
      ],
      "metadata": {
        "id": "SQe-Vjfkjsql"
      }
    },
    {
      "cell_type": "code",
      "source": [],
      "metadata": {
        "id": "6X6MsynvlVtc"
      },
      "execution_count": null,
      "outputs": []
    }
  ]
}